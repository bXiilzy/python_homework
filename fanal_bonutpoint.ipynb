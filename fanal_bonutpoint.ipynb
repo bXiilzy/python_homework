{
 "cells": [
  {
   "cell_type": "code",
   "execution_count": null,
   "id": "e90f74e9-9c76-435b-974f-fa723b49f18f",
   "metadata": {},
   "outputs": [],
   "source": [
    "ชื่อ นางสาวจีรนันท์ เกิดกล้า นามสกุล เกิดกล้า รหัสนักศึกษา 6712732121"
   ]
  },
  {
   "cell_type": "code",
   "execution_count": null,
   "id": "2d0f22bc-8d5f-451a-bc16-42269aa96ba3",
   "metadata": {},
   "outputs": [],
   "source": [
    "**โจทย์:**  \n",
    "\n",
    "มีเจ้ากบน้อยอยู่ตัวหนึ่ง สามารถกระโดดได้ในทุกทิศทางบนระนาบ และจะกระโดดเป็นระยะทางครั้งละ X หน่วย พอดี อยู่มาวันหนึ่ง เจ้ากบน้อยต้องการกระโดดจากจุด A ไปยังจุด B ซึ่งเป็นจุดบนระนาบ ที่ตั้งอยู่ห่างกัน Y หน่วย เจ้ากบน้อยอยากให้คุณช่วยหาว่า มันจะต้องกระโดดอย่างน้อยกี่ครั้ง จึงจะไปหยุดที่จุด B พอดี\n",
    "\n",
    "โจทย์ จงเขียนโปรแกรมเพื่อรับจำนวนเต็ม X และ Y แล้วคำนวณหาจำนวนครั้งที่น้อยที่สุดที่เจ้ากบน้อยต้องใช้ใน การกระโดดจากจุด A ไปยังจุด B\n",
    "\n",
    "ข้อมูลนำเข้า\n",
    "\n",
    "มีบรรทัดเดียว ระบุจำนวนเต็ม X และ Y (1 ≤ X, Y ≤ 1000) แทนระยะทางในการกระโดดแต่ละครั้งของเจ้ากบ น้อย และระยะห่างระหว่างจุด A และจุด B\n",
    "\n",
    "ข้อมูลส่งออก\n",
    "\n",
    "มีบรรทัดเดียว แสดงจำนวนครั้งที่น้อยที่สุดที่เจ้ากบน้อยต้องใช้ในการกระโดดจากจุด 4 ไปยังจุด B"
   ]
  },
  {
   "cell_type": "code",
   "execution_count": 1,
   "id": "7cf4da64-002f-4e9b-962c-b87c65e3f94e",
   "metadata": {},
   "outputs": [
    {
     "name": "stdin",
     "output_type": "stream",
     "text": [
      " 3 10\n"
     ]
    },
    {
     "name": "stdout",
     "output_type": "stream",
     "text": [
      "4\n"
     ]
    }
   ],
   "source": [
    "#คำตอบ\n",
    "import math\n",
    "\n",
    "# รับค่า X และ Y\n",
    "X, Y = map(int, input().split())\n",
    "\n",
    "# คำนวณจำนวนครั้งขั้นต่ำ\n",
    "result = math.ceil(Y / X)\n",
    "\n",
    "# แสดงผลลัพธ์\n",
    "print(result)"
   ]
  }
 ],
 "metadata": {
  "kernelspec": {
   "display_name": "Python 3 (ipykernel)",
   "language": "python",
   "name": "python3"
  },
  "language_info": {
   "codemirror_mode": {
    "name": "ipython",
    "version": 3
   },
   "file_extension": ".py",
   "mimetype": "text/x-python",
   "name": "python",
   "nbconvert_exporter": "python",
   "pygments_lexer": "ipython3",
   "version": "3.13.1"
  }
 },
 "nbformat": 4,
 "nbformat_minor": 5
}
