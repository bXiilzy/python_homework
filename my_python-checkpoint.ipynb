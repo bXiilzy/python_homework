{
 "cells": [
  {
   "cell_type": "code",
   "execution_count": null,
   "id": "26278c22-15ca-4453-ad12-67ffbf7d58bb",
   "metadata": {},
   "outputs": [],
   "source": [
    "jiranan koedkla\n",
    "6712732121"
   ]
  },
  {
   "cell_type": "code",
   "execution_count": 1,
   "id": "9b5041eb-0746-4c34-8992-90690225d0e9",
   "metadata": {},
   "outputs": [
    {
     "name": "stdout",
     "output_type": "stream",
     "text": [
      "Hello Word\n"
     ]
    }
   ],
   "source": [
    "print (\"Hello Word\")"
   ]
  },
  {
   "cell_type": "code",
   "execution_count": null,
   "id": "e472ec0e-27e4-48ae-a080-0cb1c9486eb4",
   "metadata": {},
   "outputs": [],
   "source": []
  }
 ],
 "metadata": {
  "kernelspec": {
   "display_name": "Python 3 (ipykernel)",
   "language": "python",
   "name": "python3"
  },
  "language_info": {
   "codemirror_mode": {
    "name": "ipython",
    "version": 3
   },
   "file_extension": ".py",
   "mimetype": "text/x-python",
   "name": "python",
   "nbconvert_exporter": "python",
   "pygments_lexer": "ipython3",
   "version": "3.13.0"
  }
 },
 "nbformat": 4,
 "nbformat_minor": 5
}
